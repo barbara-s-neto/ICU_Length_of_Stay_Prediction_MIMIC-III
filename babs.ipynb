{
 "cells": [
  {
   "cell_type": "markdown",
   "id": "fa415f02",
   "metadata": {},
   "source": [
    "# Tentativa #1"
   ]
  },
  {
   "cell_type": "code",
   "execution_count": 2,
   "id": "b18d9196",
   "metadata": {},
   "outputs": [],
   "source": [
    "from pyspark.sql import SparkSession\n",
    "from pyspark.ml.feature import VectorAssembler, StringIndexer, StandardScaler\n",
    "from pyspark.ml import Pipeline\n",
    "from pyspark.ml.classification import RandomForestClassifier  # or any other algorithm\n",
    "from pyspark.ml.evaluation import BinaryClassificationEvaluator  # or MulticlassClassificationEvaluator"
   ]
  },
  {
   "cell_type": "markdown",
   "id": "7e1d7878",
   "metadata": {},
   "source": [
    "## 0. Initialize Spark Session"
   ]
  },
  {
   "cell_type": "code",
   "execution_count": 3,
   "id": "c1d909d4",
   "metadata": {},
   "outputs": [
    {
     "name": "stderr",
     "output_type": "stream",
     "text": [
      "Setting default log level to \"WARN\".\n",
      "To adjust logging level use sc.setLogLevel(newLevel). For SparkR, use setLogLevel(newLevel).\n",
      "25/05/15 18:11:57 WARN NativeCodeLoader: Unable to load native-hadoop library for your platform... using builtin-java classes where applicable\n"
     ]
    }
   ],
   "source": [
    "spark = SparkSession.builder \\\n",
    "    .appName(\"BigDataMLProject\") \\\n",
    "    .config(\"spark.driver.memory\", \"8g\") \\\n",
    "    .config(\"spark.executor.memory\", \"8g\") \\\n",
    "    .getOrCreate()"
   ]
  },
  {
   "cell_type": "markdown",
   "id": "f3f5f879",
   "metadata": {},
   "source": [
    "## 1. Load Data"
   ]
  },
  {
   "cell_type": "code",
   "execution_count": 4,
   "id": "66ff9f25",
   "metadata": {},
   "outputs": [],
   "source": [
    "#df = spark.read.csv(\"CHARTEVENTS.csv\", header=True, inferSchema=True)\n",
    "\n",
    "#small_df = df.sample(fraction=0.1, seed=42).limit(400)\n",
    "\n",
    "#small_df.write.csv(\"miniCHARTEVENTS.csv\", mode=\"overwrite\", header=True)"
   ]
  },
  {
   "cell_type": "code",
   "execution_count": 5,
   "id": "5f67ba31",
   "metadata": {},
   "outputs": [
    {
     "data": {
      "text/plain": [
       "Row(ROW_ID=795, SUBJECT_ID=36, HADM_ID=165660, ICUSTAY_ID=241249, ITEMID=224663, CHARTTIME=datetime.datetime(2134, 5, 12, 12, 0), STORETIME=datetime.datetime(2134, 5, 12, 14, 44), CGID=17525, VALUE=8.0, VALUENUM=8.0, VALUEUOM=None, WARNING=0, ERROR=0, RESULTSTATUS=None, STOPPED=None)"
      ]
     },
     "execution_count": 5,
     "metadata": {},
     "output_type": "execute_result"
    }
   ],
   "source": [
    "chartevents = spark.read.csv(\"miniCHARTEVENTS.csv\", header=True, inferSchema=True)\n",
    "chartevents.head()"
   ]
  },
  {
   "cell_type": "code",
   "execution_count": 6,
   "id": "a7eaddc9",
   "metadata": {},
   "outputs": [
    {
     "name": "stdout",
     "output_type": "stream",
     "text": [
      "Schema:\n",
      "root\n",
      " |-- ROW_ID: integer (nullable = true)\n",
      " |-- SUBJECT_ID: integer (nullable = true)\n",
      " |-- HADM_ID: integer (nullable = true)\n",
      " |-- ICUSTAY_ID: integer (nullable = true)\n",
      " |-- ITEMID: integer (nullable = true)\n",
      " |-- CHARTTIME: timestamp (nullable = true)\n",
      " |-- STORETIME: timestamp (nullable = true)\n",
      " |-- CGID: integer (nullable = true)\n",
      " |-- VALUE: double (nullable = true)\n",
      " |-- VALUENUM: double (nullable = true)\n",
      " |-- VALUEUOM: string (nullable = true)\n",
      " |-- WARNING: integer (nullable = true)\n",
      " |-- ERROR: integer (nullable = true)\n",
      " |-- RESULTSTATUS: string (nullable = true)\n",
      " |-- STOPPED: string (nullable = true)\n",
      "\n",
      "Sample data:\n",
      "+------+----------+-------+----------+------+-------------------+-------------------+-----+-----+--------+--------+-------+-----+------------+-------+\n",
      "|ROW_ID|SUBJECT_ID|HADM_ID|ICUSTAY_ID|ITEMID|          CHARTTIME|          STORETIME| CGID|VALUE|VALUENUM|VALUEUOM|WARNING|ERROR|RESULTSTATUS|STOPPED|\n",
      "+------+----------+-------+----------+------+-------------------+-------------------+-----+-----+--------+--------+-------+-----+------------+-------+\n",
      "|   795|        36| 165660|    241249|224663|2134-05-12 12:00:00|2134-05-12 14:44:00|17525|  8.0|     8.0|    NULL|      0|    0|        NULL|   NULL|\n",
      "|   804|        36| 165660|    241249|220179|2134-05-12 13:00:00|2134-05-12 13:55:00|17525|137.0|   137.0|    mmHg|      0|    0|        NULL|   NULL|\n",
      "|   806|        36| 165660|    241249|220181|2134-05-12 13:00:00|2134-05-12 13:55:00|17525| 84.0|    84.0|    mmHg|      0|    0|        NULL|   NULL|\n",
      "|   838|        36| 165660|    241249|224328|2134-05-12 15:02:00|2134-05-12 18:02:00|17525| 0.37|    0.37|    NULL|      0|    0|        NULL|   NULL|\n",
      "|   846|        36| 165660|    241249|225668|2134-05-12 15:22:00|2134-05-12 15:24:00|20889|  0.7|     0.7|  mmol/L|      0|    0|        NULL|   NULL|\n",
      "+------+----------+-------+----------+------+-------------------+-------------------+-----+-----+--------+--------+-------+-----+------------+-------+\n",
      "only showing top 5 rows\n",
      "\n"
     ]
    }
   ],
   "source": [
    "print(\"Schema:\")\n",
    "chartevents.printSchema()\n",
    "print(\"Sample data:\")\n",
    "chartevents.show(5)"
   ]
  },
  {
   "cell_type": "code",
   "execution_count": 7,
   "id": "175ddb77",
   "metadata": {},
   "outputs": [],
   "source": [
    "#df = spark.read.csv(\"ICUSTAYS.csv\", header=True, inferSchema=True)\n",
    "\n",
    "#small_df = df.sample(fraction=0.1, seed=42).limit(400)\n",
    "\n",
    "#small_df.write.csv(\"miniICUSTAYS.csv\", mode=\"overwrite\", header=True)"
   ]
  },
  {
   "cell_type": "code",
   "execution_count": 8,
   "id": "6a6a57d7",
   "metadata": {},
   "outputs": [
    {
     "data": {
      "text/plain": [
       "Row(ROW_ID=372, SUBJECT_ID=275, HADM_ID=129886, ICUSTAY_ID=219649, DBSOURCE='carevue', FIRST_CAREUNIT='CCU', LAST_CAREUNIT='CCU', FIRST_WARDID=7, LAST_WARDID=7, INTIME=datetime.datetime(2170, 10, 7, 11, 28, 53), OUTTIME=datetime.datetime(2170, 10, 14, 14, 38, 7), LOS=7.1314)"
      ]
     },
     "execution_count": 8,
     "metadata": {},
     "output_type": "execute_result"
    }
   ],
   "source": [
    "icustays = spark.read.csv(\"miniICUSTAYS.csv\", header=True, inferSchema=True)\n",
    "icustays.head()"
   ]
  },
  {
   "cell_type": "code",
   "execution_count": 9,
   "id": "33737469",
   "metadata": {},
   "outputs": [
    {
     "name": "stdout",
     "output_type": "stream",
     "text": [
      "Schema:\n",
      "root\n",
      " |-- ROW_ID: integer (nullable = true)\n",
      " |-- SUBJECT_ID: integer (nullable = true)\n",
      " |-- HADM_ID: integer (nullable = true)\n",
      " |-- ICUSTAY_ID: integer (nullable = true)\n",
      " |-- DBSOURCE: string (nullable = true)\n",
      " |-- FIRST_CAREUNIT: string (nullable = true)\n",
      " |-- LAST_CAREUNIT: string (nullable = true)\n",
      " |-- FIRST_WARDID: integer (nullable = true)\n",
      " |-- LAST_WARDID: integer (nullable = true)\n",
      " |-- INTIME: timestamp (nullable = true)\n",
      " |-- OUTTIME: timestamp (nullable = true)\n",
      " |-- LOS: double (nullable = true)\n",
      "\n",
      "Sample data:\n",
      "+------+----------+-------+----------+--------+--------------+-------------+------------+-----------+-------------------+-------------------+-------+\n",
      "|ROW_ID|SUBJECT_ID|HADM_ID|ICUSTAY_ID|DBSOURCE|FIRST_CAREUNIT|LAST_CAREUNIT|FIRST_WARDID|LAST_WARDID|             INTIME|            OUTTIME|    LOS|\n",
      "+------+----------+-------+----------+--------+--------------+-------------+------------+-----------+-------------------+-------------------+-------+\n",
      "|   372|       275| 129886|    219649| carevue|           CCU|          CCU|           7|          7|2170-10-07 11:28:53|2170-10-14 14:38:07| 7.1314|\n",
      "|   381|       284| 112354|    223593| carevue|          MICU|         MICU|          12|         12|2149-11-29 15:39:34|2149-11-30 17:18:14| 1.0685|\n",
      "|   383|       286| 106909|    260225| carevue|          MICU|         MICU|          52|         52|2175-12-31 22:57:27|2176-02-24 19:16:58|54.8469|\n",
      "|   415|       309| 162308|    211035| carevue|           CCU|          CCU|           7|          7|2160-06-04 09:45:55|2160-06-05 19:03:42| 1.3873|\n",
      "|   423|       318| 193264|    225173| carevue|           CCU|         CSRU|          57|         14|2129-06-07 08:50:00|2129-06-13 10:45:00| 6.0799|\n",
      "+------+----------+-------+----------+--------+--------------+-------------+------------+-----------+-------------------+-------------------+-------+\n",
      "only showing top 5 rows\n",
      "\n"
     ]
    }
   ],
   "source": [
    "print(\"Schema:\")\n",
    "icustays.printSchema()\n",
    "print(\"Sample data:\")\n",
    "icustays.show(5)"
   ]
  },
  {
   "cell_type": "code",
   "execution_count": 10,
   "id": "da41158f",
   "metadata": {},
   "outputs": [],
   "source": [
    "#df = spark.read.csv(\"ADMISSIONS.csv\", header=True, inferSchema=True)\n",
    "\n",
    "#small_df = df.sample(fraction=0.1, seed=42).limit(400)\n",
    "\n",
    "#small_df.write.csv(\"miniADMISSIONS.csv\", mode=\"overwrite\", header=True)"
   ]
  },
  {
   "cell_type": "code",
   "execution_count": 11,
   "id": "119b4506",
   "metadata": {},
   "outputs": [
    {
     "data": {
      "text/plain": [
       "Row(ROW_ID=28, SUBJECT_ID=28, HADM_ID=162569, ADMITTIME=datetime.datetime(2177, 9, 1, 7, 15), DISCHTIME=datetime.datetime(2177, 9, 6, 16, 0), DEATHTIME=None, ADMISSION_TYPE='ELECTIVE', ADMISSION_LOCATION='PHYS REFERRAL/NORMAL DELI', DISCHARGE_LOCATION='HOME HEALTH CARE', INSURANCE='Medicare', LANGUAGE=None, RELIGION='CATHOLIC', MARITAL_STATUS='MARRIED', ETHNICITY='WHITE', EDREGTIME=None, EDOUTTIME=None, DIAGNOSIS='CORONARY ARTERY DISEASE\\\\CORONARY ARTERY BYPASS GRAFT/SDA', HOSPITAL_EXPIRE_FLAG=0, HAS_CHARTEVENTS_DATA=1)"
      ]
     },
     "execution_count": 11,
     "metadata": {},
     "output_type": "execute_result"
    }
   ],
   "source": [
    "admissions = spark.read.csv(\"miniADMISSIONS.csv\", header=True, inferSchema=True)\n",
    "admissions.head()"
   ]
  },
  {
   "cell_type": "code",
   "execution_count": 12,
   "id": "fce4d179",
   "metadata": {},
   "outputs": [
    {
     "name": "stdout",
     "output_type": "stream",
     "text": [
      "Schema:\n",
      "root\n",
      " |-- ROW_ID: integer (nullable = true)\n",
      " |-- SUBJECT_ID: integer (nullable = true)\n",
      " |-- HADM_ID: integer (nullable = true)\n",
      " |-- ADMITTIME: timestamp (nullable = true)\n",
      " |-- DISCHTIME: timestamp (nullable = true)\n",
      " |-- DEATHTIME: timestamp (nullable = true)\n",
      " |-- ADMISSION_TYPE: string (nullable = true)\n",
      " |-- ADMISSION_LOCATION: string (nullable = true)\n",
      " |-- DISCHARGE_LOCATION: string (nullable = true)\n",
      " |-- INSURANCE: string (nullable = true)\n",
      " |-- LANGUAGE: string (nullable = true)\n",
      " |-- RELIGION: string (nullable = true)\n",
      " |-- MARITAL_STATUS: string (nullable = true)\n",
      " |-- ETHNICITY: string (nullable = true)\n",
      " |-- EDREGTIME: timestamp (nullable = true)\n",
      " |-- EDOUTTIME: timestamp (nullable = true)\n",
      " |-- DIAGNOSIS: string (nullable = true)\n",
      " |-- HOSPITAL_EXPIRE_FLAG: integer (nullable = true)\n",
      " |-- HAS_CHARTEVENTS_DATA: integer (nullable = true)\n",
      "\n",
      "Sample data:\n",
      "+------+----------+-------+-------------------+-------------------+---------+--------------+--------------------+--------------------+---------+--------+-----------------+--------------+---------+-------------------+-------------------+--------------------+--------------------+--------------------+\n",
      "|ROW_ID|SUBJECT_ID|HADM_ID|          ADMITTIME|          DISCHTIME|DEATHTIME|ADMISSION_TYPE|  ADMISSION_LOCATION|  DISCHARGE_LOCATION|INSURANCE|LANGUAGE|         RELIGION|MARITAL_STATUS|ETHNICITY|          EDREGTIME|          EDOUTTIME|           DIAGNOSIS|HOSPITAL_EXPIRE_FLAG|HAS_CHARTEVENTS_DATA|\n",
      "+------+----------+-------+-------------------+-------------------+---------+--------------+--------------------+--------------------+---------+--------+-----------------+--------------+---------+-------------------+-------------------+--------------------+--------------------+--------------------+\n",
      "|    28|        28| 162569|2177-09-01 07:15:00|2177-09-06 16:00:00|     NULL|      ELECTIVE|PHYS REFERRAL/NOR...|    HOME HEALTH CARE| Medicare|    NULL|         CATHOLIC|       MARRIED|    WHITE|               NULL|               NULL|CORONARY ARTERY D...|                   0|                   1|\n",
      "|    37|        36| 122659|2131-05-12 19:49:00|2131-05-25 13:30:00|     NULL|     EMERGENCY|EMERGENCY ROOM ADMIT|REHAB/DISTINCT PA...| Medicare|    ENGL|    NOT SPECIFIED|       MARRIED|    WHITE|2131-05-12 17:26:00|2131-05-12 22:17:00|CHEST PAIN/SHORTN...|                   0|                   1|\n",
      "|    39|        37| 188670|2183-08-21 16:48:00|2183-08-26 18:54:00|     NULL|     EMERGENCY|EMERGENCY ROOM ADMIT|    HOME HEALTH CARE| Medicare|    NULL|           JEWISH|       MARRIED|    WHITE|2183-08-21 05:58:00|2183-08-21 17:45:00|CONGESTIVE HEART ...|                   0|                   1|\n",
      "|    48|        49| 190539|2186-11-21 07:15:00|2186-11-28 14:05:00|     NULL|      ELECTIVE|PHYS REFERRAL/NOR...|                 SNF| Medicare|    NULL|    NOT SPECIFIED|       MARRIED|    WHITE|               NULL|               NULL|AORTIC STENOSIS\\A...|                   0|                   1|\n",
      "|    56|        57| 162774|2141-08-26 00:07:00|2141-08-30 12:14:00|     NULL|       NEWBORN|PHYS REFERRAL/NOR...|                HOME|  Private|    NULL|PROTESTANT QUAKER|          NULL|    WHITE|               NULL|               NULL|             NEWBORN|                   0|                   1|\n",
      "+------+----------+-------+-------------------+-------------------+---------+--------------+--------------------+--------------------+---------+--------+-----------------+--------------+---------+-------------------+-------------------+--------------------+--------------------+--------------------+\n",
      "only showing top 5 rows\n",
      "\n"
     ]
    }
   ],
   "source": [
    "print(\"Schema:\")\n",
    "admissions.printSchema()\n",
    "print(\"Sample data:\")\n",
    "admissions.show(5)"
   ]
  },
  {
   "cell_type": "code",
   "execution_count": 13,
   "id": "fee8950a",
   "metadata": {},
   "outputs": [],
   "source": [
    "#df = spark.read.csv(\"LABEVENTS.csv\", header=True, inferSchema=True)\n",
    "\n",
    "#small_df = df.sample(fraction=0.1, seed=42).limit(400)\n",
    "\n",
    "#small_df.write.csv(\"miniLABEVENTS.csv\", mode=\"overwrite\", header=True)"
   ]
  },
  {
   "cell_type": "code",
   "execution_count": 14,
   "id": "cc8e274f",
   "metadata": {},
   "outputs": [
    {
     "name": "stdout",
     "output_type": "stream",
     "text": [
      "Schema:\n",
      "root\n",
      " |-- ROW_ID: integer (nullable = true)\n",
      " |-- SUBJECT_ID: integer (nullable = true)\n",
      " |-- HADM_ID: integer (nullable = true)\n",
      " |-- ADMITTIME: timestamp (nullable = true)\n",
      " |-- DISCHTIME: timestamp (nullable = true)\n",
      " |-- DEATHTIME: timestamp (nullable = true)\n",
      " |-- ADMISSION_TYPE: string (nullable = true)\n",
      " |-- ADMISSION_LOCATION: string (nullable = true)\n",
      " |-- DISCHARGE_LOCATION: string (nullable = true)\n",
      " |-- INSURANCE: string (nullable = true)\n",
      " |-- LANGUAGE: string (nullable = true)\n",
      " |-- RELIGION: string (nullable = true)\n",
      " |-- MARITAL_STATUS: string (nullable = true)\n",
      " |-- ETHNICITY: string (nullable = true)\n",
      " |-- EDREGTIME: timestamp (nullable = true)\n",
      " |-- EDOUTTIME: timestamp (nullable = true)\n",
      " |-- DIAGNOSIS: string (nullable = true)\n",
      " |-- HOSPITAL_EXPIRE_FLAG: integer (nullable = true)\n",
      " |-- HAS_CHARTEVENTS_DATA: integer (nullable = true)\n",
      "\n",
      "Sample data:\n",
      "+------+----------+-------+-------------------+-------------------+---------+--------------+--------------------+--------------------+---------+--------+-----------------+--------------+---------+-------------------+-------------------+--------------------+--------------------+--------------------+\n",
      "|ROW_ID|SUBJECT_ID|HADM_ID|          ADMITTIME|          DISCHTIME|DEATHTIME|ADMISSION_TYPE|  ADMISSION_LOCATION|  DISCHARGE_LOCATION|INSURANCE|LANGUAGE|         RELIGION|MARITAL_STATUS|ETHNICITY|          EDREGTIME|          EDOUTTIME|           DIAGNOSIS|HOSPITAL_EXPIRE_FLAG|HAS_CHARTEVENTS_DATA|\n",
      "+------+----------+-------+-------------------+-------------------+---------+--------------+--------------------+--------------------+---------+--------+-----------------+--------------+---------+-------------------+-------------------+--------------------+--------------------+--------------------+\n",
      "|    28|        28| 162569|2177-09-01 07:15:00|2177-09-06 16:00:00|     NULL|      ELECTIVE|PHYS REFERRAL/NOR...|    HOME HEALTH CARE| Medicare|    NULL|         CATHOLIC|       MARRIED|    WHITE|               NULL|               NULL|CORONARY ARTERY D...|                   0|                   1|\n",
      "|    37|        36| 122659|2131-05-12 19:49:00|2131-05-25 13:30:00|     NULL|     EMERGENCY|EMERGENCY ROOM ADMIT|REHAB/DISTINCT PA...| Medicare|    ENGL|    NOT SPECIFIED|       MARRIED|    WHITE|2131-05-12 17:26:00|2131-05-12 22:17:00|CHEST PAIN/SHORTN...|                   0|                   1|\n",
      "|    39|        37| 188670|2183-08-21 16:48:00|2183-08-26 18:54:00|     NULL|     EMERGENCY|EMERGENCY ROOM ADMIT|    HOME HEALTH CARE| Medicare|    NULL|           JEWISH|       MARRIED|    WHITE|2183-08-21 05:58:00|2183-08-21 17:45:00|CONGESTIVE HEART ...|                   0|                   1|\n",
      "|    48|        49| 190539|2186-11-21 07:15:00|2186-11-28 14:05:00|     NULL|      ELECTIVE|PHYS REFERRAL/NOR...|                 SNF| Medicare|    NULL|    NOT SPECIFIED|       MARRIED|    WHITE|               NULL|               NULL|AORTIC STENOSIS\\A...|                   0|                   1|\n",
      "|    56|        57| 162774|2141-08-26 00:07:00|2141-08-30 12:14:00|     NULL|       NEWBORN|PHYS REFERRAL/NOR...|                HOME|  Private|    NULL|PROTESTANT QUAKER|          NULL|    WHITE|               NULL|               NULL|             NEWBORN|                   0|                   1|\n",
      "+------+----------+-------+-------------------+-------------------+---------+--------------+--------------------+--------------------+---------+--------+-----------------+--------------+---------+-------------------+-------------------+--------------------+--------------------+--------------------+\n",
      "only showing top 5 rows\n",
      "\n"
     ]
    }
   ],
   "source": [
    "labevents = spark.read.csv(\"miniADMISSIONS.csv\", header=True, inferSchema=True)\n",
    "labevents.head()\n",
    "print(\"Schema:\")\n",
    "labevents.printSchema()\n",
    "print(\"Sample data:\")\n",
    "labevents.show(5)"
   ]
  },
  {
   "cell_type": "code",
   "execution_count": 15,
   "id": "e2e2cdd9",
   "metadata": {},
   "outputs": [],
   "source": [
    "#df = spark.read.csv(\"DIAGNOSES_ICD.csv\", header=True, inferSchema=True)\n",
    "\n",
    "#small_df = df.sample(fraction=0.1, seed=42).limit(400)\n",
    "\n",
    "#small_df.write.csv(\"miniDIAGNOSES_ICD.csv\", mode=\"overwrite\", header=True)"
   ]
  },
  {
   "cell_type": "code",
   "execution_count": 16,
   "id": "cc48172c",
   "metadata": {},
   "outputs": [
    {
     "name": "stdout",
     "output_type": "stream",
     "text": [
      "Schema:\n",
      "root\n",
      " |-- row_id: integer (nullable = true)\n",
      " |-- subject_id: integer (nullable = true)\n",
      " |-- hadm_id: integer (nullable = true)\n",
      " |-- seq_num: integer (nullable = true)\n",
      " |-- icd9_code: string (nullable = true)\n",
      "\n",
      "Sample data:\n",
      "+------+----------+-------+-------+---------+\n",
      "|row_id|subject_id|hadm_id|seq_num|icd9_code|\n",
      "+------+----------+-------+-------+---------+\n",
      "|112351|     10006| 142345|      8|     4240|\n",
      "|112360|     10006| 142345|     17|    V5867|\n",
      "|112362|     10006| 142345|     19|    41401|\n",
      "|112458|     10019| 177759|      1|     0389|\n",
      "|112466|     10019| 177759|      9|    78559|\n",
      "+------+----------+-------+-------+---------+\n",
      "only showing top 5 rows\n",
      "\n"
     ]
    }
   ],
   "source": [
    "diagnoses = spark.read.csv(\"miniDIAGNOSES_ICD.csv\", header=True, inferSchema=True)\n",
    "diagnoses.head()\n",
    "print(\"Schema:\")\n",
    "diagnoses.printSchema()\n",
    "print(\"Sample data:\")\n",
    "diagnoses.show(5)"
   ]
  },
  {
   "cell_type": "code",
   "execution_count": 17,
   "id": "3719998b",
   "metadata": {},
   "outputs": [],
   "source": [
    "#df = spark.read.csv(\"PROCEDURES_ICD.csv\", header=True, inferSchema=True)\n",
    "\n",
    "#small_df = df.sample(fraction=0.1, seed=42).limit(400)\n",
    "\n",
    "#small_df.write.csv(\"miniPROCEDURES_ICD.csv\", mode=\"overwrite\", header=True)"
   ]
  },
  {
   "cell_type": "code",
   "execution_count": 18,
   "id": "e4804a50",
   "metadata": {},
   "outputs": [
    {
     "name": "stdout",
     "output_type": "stream",
     "text": [
      "Schema:\n",
      "root\n",
      " |-- row_id: integer (nullable = true)\n",
      " |-- subject_id: integer (nullable = true)\n",
      " |-- hadm_id: integer (nullable = true)\n",
      " |-- seq_num: integer (nullable = true)\n",
      " |-- icd9_code: integer (nullable = true)\n",
      "\n",
      "Sample data:\n",
      "+------+----------+-------+-------+---------+\n",
      "|row_id|subject_id|hadm_id|seq_num|icd9_code|\n",
      "+------+----------+-------+-------+---------+\n",
      "|  7354|     10130| 156668|      2|     4623|\n",
      "|  9845|     10069| 146672|      5|     9604|\n",
      "|  9847|     10069| 146672|      7|      331|\n",
      "| 47340|     10006| 142345|      6|     9907|\n",
      "| 51600|     10074| 170119|      4|     8847|\n",
      "+------+----------+-------+-------+---------+\n",
      "only showing top 5 rows\n",
      "\n"
     ]
    }
   ],
   "source": [
    "procedures = spark.read.csv(\"miniPROCEDURES_ICD.csv\", header=True, inferSchema=True)\n",
    "procedures.head()\n",
    "print(\"Schema:\")\n",
    "procedures.printSchema()\n",
    "print(\"Sample data:\")\n",
    "procedures.show(5)"
   ]
  },
  {
   "cell_type": "code",
   "execution_count": 19,
   "id": "9895fd33",
   "metadata": {},
   "outputs": [],
   "source": [
    "#df = spark.read.csv(\"INPUTEVENTS_MV.csv\", header=True, inferSchema=True)\n",
    "\n",
    "#small_df = df.sample(fraction=0.1, seed=42).limit(400)\n",
    "\n",
    "#small_df.write.csv(\"miniINPUTEVENTS_MV.csv\", mode=\"overwrite\", header=True)"
   ]
  },
  {
   "cell_type": "code",
   "execution_count": 20,
   "id": "22b4140b",
   "metadata": {},
   "outputs": [
    {
     "name": "stdout",
     "output_type": "stream",
     "text": [
      "Schema:\n",
      "root\n",
      " |-- ROW_ID: integer (nullable = true)\n",
      " |-- SUBJECT_ID: integer (nullable = true)\n",
      " |-- HADM_ID: integer (nullable = true)\n",
      " |-- ICUSTAY_ID: integer (nullable = true)\n",
      " |-- STARTTIME: timestamp (nullable = true)\n",
      " |-- ENDTIME: timestamp (nullable = true)\n",
      " |-- ITEMID: integer (nullable = true)\n",
      " |-- AMOUNT: double (nullable = true)\n",
      " |-- AMOUNTUOM: string (nullable = true)\n",
      " |-- RATE: double (nullable = true)\n",
      " |-- RATEUOM: string (nullable = true)\n",
      " |-- STORETIME: timestamp (nullable = true)\n",
      " |-- CGID: integer (nullable = true)\n",
      " |-- ORDERID: integer (nullable = true)\n",
      " |-- LINKORDERID: integer (nullable = true)\n",
      " |-- ORDERCATEGORYNAME: string (nullable = true)\n",
      " |-- SECONDARYORDERCATEGORYNAME: string (nullable = true)\n",
      " |-- ORDERCOMPONENTTYPEDESCRIPTION: string (nullable = true)\n",
      " |-- ORDERCATEGORYDESCRIPTION: string (nullable = true)\n",
      " |-- PATIENTWEIGHT: double (nullable = true)\n",
      " |-- TOTALAMOUNT: double (nullable = true)\n",
      " |-- TOTALAMOUNTUOM: string (nullable = true)\n",
      " |-- ISOPENBAG: integer (nullable = true)\n",
      " |-- CONTINUEINNEXTDEPT: integer (nullable = true)\n",
      " |-- CANCELREASON: integer (nullable = true)\n",
      " |-- STATUSDESCRIPTION: string (nullable = true)\n",
      " |-- COMMENTS_EDITEDBY: string (nullable = true)\n",
      " |-- COMMENTS_CANCELEDBY: string (nullable = true)\n",
      " |-- COMMENTS_DATE: timestamp (nullable = true)\n",
      " |-- ORIGINALAMOUNT: double (nullable = true)\n",
      " |-- ORIGINALRATE: double (nullable = true)\n",
      "\n",
      "Sample data:\n",
      "+------+----------+-------+----------+-------------------+-------------------+------+-----------+---------+----------+-------+-------------------+-----+-------+-----------+--------------------+--------------------------+-----------------------------+------------------------+-------------+-----------+--------------+---------+------------------+------------+-----------------+-----------------+-------------------+-------------------+--------------+------------+\n",
      "|ROW_ID|SUBJECT_ID|HADM_ID|ICUSTAY_ID|          STARTTIME|            ENDTIME|ITEMID|     AMOUNT|AMOUNTUOM|      RATE|RATEUOM|          STORETIME| CGID|ORDERID|LINKORDERID|   ORDERCATEGORYNAME|SECONDARYORDERCATEGORYNAME|ORDERCOMPONENTTYPEDESCRIPTION|ORDERCATEGORYDESCRIPTION|PATIENTWEIGHT|TOTALAMOUNT|TOTALAMOUNTUOM|ISOPENBAG|CONTINUEINNEXTDEPT|CANCELREASON|STATUSDESCRIPTION|COMMENTS_EDITEDBY|COMMENTS_CANCELEDBY|      COMMENTS_DATE|ORIGINALAMOUNT|ORIGINALRATE|\n",
      "+------+----------+-------+----------+-------------------+-------------------+------+-----------+---------+----------+-------+-------------------+-----+-------+-----------+--------------------+--------------------------+-----------------------------+------------------------+-------------+-----------+--------------+---------+------------------+------------+-----------------+-----------------+-------------------+-------------------+--------------+------------+\n",
      "|   248|     27063| 139787|    223259|2133-02-05 09:43:00|2133-02-05 12:30:00|225944|83.60020668|       ml|30.0360024|mL/hour|2133-02-05 12:58:00|16042|5544340|    5544340|02-Fluids (Crysta...|      Additive (Crystal...|         Main order parameter|           Continuous IV|         83.2|      100.0|            ml|        0|                 0|           0|          Changed|             NULL|               NULL|               NULL|         100.0|    30.14892|\n",
      "|   257|     27063| 139787|    223259|2133-02-04 17:00:00|2133-02-04 17:01:00|226453|       60.0|       ml|      NULL|   NULL|2133-02-04 18:09:00|20030|6152899|    6152899|14-Oral/Gastric I...|                      NULL|         Main order parameter|                   Bolus|         83.2|       60.0|            ml|        0|                 0|           0|  FinishedRunning|             NULL|               NULL|               NULL|          60.0|         0.0|\n",
      "|   105|     29969| 129547|    248410|2181-02-22 13:10:00|2181-02-22 13:11:00|225797|      200.0|       ml|      NULL|   NULL|2181-02-22 15:12:00|15047| 446696|     446696|14-Oral/Gastric I...|                      NULL|         Main order parameter|                   Bolus|         90.9|      200.0|            ml|        0|                 0|           0|  FinishedRunning|             NULL|               NULL|               NULL|         200.0|       200.0|\n",
      "|   100|     30354| 120396|    243526|2154-12-24 23:34:00|2154-12-25 03:47:00|225828| 325.000005|       ml|   77.0751|mL/hour|2154-12-24 23:35:00|21290|9742072|    9742072|02-Fluids (Crysta...|      Additive (Crystal...|         Main order parameter|           Continuous IV|         31.9|      325.0|            ml|        0|                 0|           1|        Rewritten|             NULL|                 RN|2154-12-24 23:50:00|         325.0|   77.075104|\n",
      "|     5|     30354| 120396|    243526|2154-12-24 15:37:00|2154-12-24 17:00:00|221668|5.532396125|       mg| 3.9993225|mg/hour|2154-12-24 16:33:00|19348| 371945|    3012993|            01-Drips|      02-Fluids (Crysta...|         Main order parameter|          Continuous Med|         31.9|      100.0|            ml|        0|                 0|           0|          Changed|             NULL|               NULL|               NULL|     98.383331|         4.0|\n",
      "+------+----------+-------+----------+-------------------+-------------------+------+-----------+---------+----------+-------+-------------------+-----+-------+-----------+--------------------+--------------------------+-----------------------------+------------------------+-------------+-----------+--------------+---------+------------------+------------+-----------------+-----------------+-------------------+-------------------+--------------+------------+\n",
      "only showing top 5 rows\n",
      "\n"
     ]
    },
    {
     "name": "stderr",
     "output_type": "stream",
     "text": [
      "25/05/15 18:12:04 WARN SparkStringUtils: Truncated the string representation of a plan since it was too large. This behavior can be adjusted by setting 'spark.sql.debug.maxToStringFields'.\n"
     ]
    }
   ],
   "source": [
    "inputevents = spark.read.csv(\"miniINPUTEVENTS_MV.csv\", header=True, inferSchema=True)\n",
    "inputevents.head()\n",
    "print(\"Schema:\")\n",
    "inputevents.printSchema()\n",
    "print(\"Sample data:\")\n",
    "inputevents.show(5)"
   ]
  },
  {
   "cell_type": "markdown",
   "id": "ef4d30ae",
   "metadata": {},
   "source": [
    "## 2. Data Preprocessing"
   ]
  },
  {
   "cell_type": "markdown",
   "id": "9dde8d6c",
   "metadata": {},
   "source": [
    "The tables were chose based on its properties regarding a persons' illness, bodily atributes or gravity of the situation. The tables were:\n",
    "* ChartEVents\n",
    "* Admissions\n",
    "* Diagnoses\n",
    "* ICUStays\n",
    "* InputEvents_MV\n",
    "* Procedures"
   ]
  },
  {
   "cell_type": "markdown",
   "id": "a9c4aa7c",
   "metadata": {},
   "source": [
    "### a. Choose columns to use"
   ]
  },
  {
   "cell_type": "markdown",
   "id": "4e9195d1",
   "metadata": {},
   "source": [
    "The majoriry of the atributes are not useful to predict the duration of a ICU stay, therefore, for a initial analysis, we will choose the ones we consider relevant.\n",
    "\n",
    "First of all, we create temporary views of all tables into a SQL-like table."
   ]
  },
  {
   "cell_type": "code",
   "execution_count": 53,
   "id": "c4224427",
   "metadata": {},
   "outputs": [],
   "source": [
    "chartevents.createOrReplaceTempView(\"chartevents\")\n",
    "admissions.createOrReplaceTempView(\"admissions\")\n",
    "diagnoses.createOrReplaceTempView(\"diagnoses\")\n",
    "icustays.createOrReplaceTempView(\"icustays\")\n",
    "inputevents.createOrReplaceTempView(\"inputevents\")\n",
    "labevents.createOrReplaceTempView(\"labevents\")\n",
    "procedures.createOrReplaceTempView(\"procedures\")"
   ]
  },
  {
   "cell_type": "markdown",
   "id": "c1bfc8b8",
   "metadata": {},
   "source": [
    "Then, we create a table, using a SQL query, with the relevant features for predicting the icu stay duration, and its own column (LOS from ICUStays)."
   ]
  },
  {
   "cell_type": "code",
   "execution_count": null,
   "id": "8ad8f17e",
   "metadata": {},
   "outputs": [
    {
     "name": "stdout",
     "output_type": "stream",
     "text": [
      "+------+----------+-------+----------+-------------------+-------------------+------+-----------+---------+----------+-------+-------------------+-----+-------+-----------+--------------------+--------------------------+-----------------------------+------------------------+-------------+-----------+--------------+---------+------------------+------------+-----------------+-----------------+-------------------+-------------------+--------------+------------+\n",
      "|ROW_ID|SUBJECT_ID|HADM_ID|ICUSTAY_ID|          STARTTIME|            ENDTIME|ITEMID|     AMOUNT|AMOUNTUOM|      RATE|RATEUOM|          STORETIME| CGID|ORDERID|LINKORDERID|   ORDERCATEGORYNAME|SECONDARYORDERCATEGORYNAME|ORDERCOMPONENTTYPEDESCRIPTION|ORDERCATEGORYDESCRIPTION|PATIENTWEIGHT|TOTALAMOUNT|TOTALAMOUNTUOM|ISOPENBAG|CONTINUEINNEXTDEPT|CANCELREASON|STATUSDESCRIPTION|COMMENTS_EDITEDBY|COMMENTS_CANCELEDBY|      COMMENTS_DATE|ORIGINALAMOUNT|ORIGINALRATE|\n",
      "+------+----------+-------+----------+-------------------+-------------------+------+-----------+---------+----------+-------+-------------------+-----+-------+-----------+--------------------+--------------------------+-----------------------------+------------------------+-------------+-----------+--------------+---------+------------------+------------+-----------------+-----------------+-------------------+-------------------+--------------+------------+\n",
      "|   248|     27063| 139787|    223259|2133-02-05 09:43:00|2133-02-05 12:30:00|225944|83.60020668|       ml|30.0360024|mL/hour|2133-02-05 12:58:00|16042|5544340|    5544340|02-Fluids (Crysta...|      Additive (Crystal...|         Main order parameter|           Continuous IV|         83.2|      100.0|            ml|        0|                 0|           0|          Changed|             NULL|               NULL|               NULL|         100.0|    30.14892|\n",
      "|   257|     27063| 139787|    223259|2133-02-04 17:00:00|2133-02-04 17:01:00|226453|       60.0|       ml|      NULL|   NULL|2133-02-04 18:09:00|20030|6152899|    6152899|14-Oral/Gastric I...|                      NULL|         Main order parameter|                   Bolus|         83.2|       60.0|            ml|        0|                 0|           0|  FinishedRunning|             NULL|               NULL|               NULL|          60.0|         0.0|\n",
      "|   105|     29969| 129547|    248410|2181-02-22 13:10:00|2181-02-22 13:11:00|225797|      200.0|       ml|      NULL|   NULL|2181-02-22 15:12:00|15047| 446696|     446696|14-Oral/Gastric I...|                      NULL|         Main order parameter|                   Bolus|         90.9|      200.0|            ml|        0|                 0|           0|  FinishedRunning|             NULL|               NULL|               NULL|         200.0|       200.0|\n",
      "|   100|     30354| 120396|    243526|2154-12-24 23:34:00|2154-12-25 03:47:00|225828| 325.000005|       ml|   77.0751|mL/hour|2154-12-24 23:35:00|21290|9742072|    9742072|02-Fluids (Crysta...|      Additive (Crystal...|         Main order parameter|           Continuous IV|         31.9|      325.0|            ml|        0|                 0|           1|        Rewritten|             NULL|                 RN|2154-12-24 23:50:00|         325.0|   77.075104|\n",
      "|     5|     30354| 120396|    243526|2154-12-24 15:37:00|2154-12-24 17:00:00|221668|5.532396125|       mg| 3.9993225|mg/hour|2154-12-24 16:33:00|19348| 371945|    3012993|            01-Drips|      02-Fluids (Crysta...|         Main order parameter|          Continuous Med|         31.9|      100.0|            ml|        0|                 0|           0|          Changed|             NULL|               NULL|               NULL|     98.383331|         4.0|\n",
      "|    10|     30354| 120396|    243526|2154-12-26 14:00:00|2154-12-26 14:01:00|225936|  1.0814815|       ml|  64.88889|mL/hour|2154-12-26 15:25:00|17457| 459378|    5004127|13-Enteral Nutrition|            Additives (EN)|         Main order parameter|           Continuous IV|         31.9|      250.0|            ml|        0|                 0|           0|        Rewritten|             NULL|               NULL|               NULL|         146.0|        65.0|\n",
      "|    13|     30354| 120396|    243526|2154-12-24 12:00:00|2154-12-24 15:40:00|225828|      275.0|       ml|      75.0|mL/hour|2154-12-24 16:22:00|19348| 624164|     624164|02-Fluids (Crysta...|      Additive (Crystal...|         Main order parameter|           Continuous IV|         31.9|      275.0|            ml|        0|                 0|           2|        Rewritten|               RN|               NULL|2154-12-24 16:23:00|         275.0|        75.0|\n",
      "|    19|     30354| 120396|    243526|2154-12-24 12:00:00|2154-12-28 16:00:00|221668| 100.000002|       mg|1.00000002|mg/hour|2154-12-24 14:09:00|19348|1461360|    1461360|            01-Drips|      02-Fluids (Crysta...|         Main order parameter|          Continuous Med|         31.9|      100.0|            ml|        0|                 0|           2|        Rewritten|               RN|               NULL|2154-12-24 14:10:00|         100.0|         1.0|\n",
      "|    26|     30354| 120396|    243526|2154-12-24 21:07:00|2154-12-25 20:32:00|225828| 234.228393|       ml| 10.002636|mL/hour|2154-12-24 23:49:00|21290|2078755|    2631349|02-Fluids (Crysta...|      Additive (Crystal...|         Main order parameter|           Continuous IV|         31.9|     1000.0|            ml|        0|                 0|           0|          Stopped|             NULL|               NULL|               NULL|        316.25|        10.0|\n",
      "|    35|     30354| 120396|    243526|2154-12-26 04:15:00|2154-12-26 04:16:00|225936| 0.83333337|       ml|50.0000022|mL/hour|2154-12-26 04:20:00|21297|2878034|     398149|13-Enteral Nutrition|            Additives (EN)|         Main order parameter|           Continuous IV|         31.9|      250.0|            ml|        0|                 0|           0|        Rewritten|             NULL|               NULL|               NULL|     176.66667|        50.0|\n",
      "+------+----------+-------+----------+-------------------+-------------------+------+-----------+---------+----------+-------+-------------------+-----+-------+-----------+--------------------+--------------------------+-----------------------------+------------------------+-------------+-----------+--------------+---------+------------------+------------+-----------------+-----------------+-------------------+-------------------+--------------+------------+\n",
      "only showing top 10 rows\n",
      "\n"
     ]
    }
   ],
   "source": [
    "inputevents.show(10)\n",
    "\n",
    "#https://mimic.mit.edu/docs/iii/tables/inputevents_mv/"
   ]
  },
  {
   "cell_type": "markdown",
   "id": "6170a949",
   "metadata": {},
   "source": [
    "nao sei como hei de lidar com os tempos dos exames feitos, tipo na msm admissao conto todos os testes? faço um if para que o exame seja feito quando a pessoa ja esteja dentro a icu ou apenas quando esta no hospital?"
   ]
  },
  {
   "cell_type": "code",
   "execution_count": null,
   "id": "19c2791a",
   "metadata": {},
   "outputs": [
    {
     "name": "stdout",
     "output_type": "stream",
     "text": [
      "+----------+-------+--------------+------------------+------+-----+-----+-------+---------+--------------+-------+\n",
      "|subject_id|hadm_id|admission_type|admission_location|itemid|value|error|seq_num|icd9_code|first_careunit|    LOS|\n",
      "+----------+-------+--------------+------------------+------+-----+-----+-------+---------+--------------+-------+\n",
      "|      1569|   NULL|          NULL|              NULL|  NULL| NULL| NULL|   NULL|     NULL|           CCU| 6.1209|\n",
      "|       680|   NULL|          NULL|              NULL|  NULL| NULL| NULL|   NULL|     NULL|         TSICU| 1.5246|\n",
      "|      1162|   NULL|          NULL|              NULL|  NULL| NULL| NULL|   NULL|     NULL|          CSRU| 1.4569|\n",
      "|      2562|   NULL|          NULL|              NULL|  NULL| NULL| NULL|   NULL|     NULL|          CSRU| 5.8048|\n",
      "|        78|   NULL|          NULL|              NULL|  NULL| NULL| NULL|   NULL|     NULL|          MICU| 1.4891|\n",
      "|      1226|   NULL|          NULL|              NULL|  NULL| NULL| NULL|   NULL|     NULL|          MICU| 9.3819|\n",
      "|       856|   NULL|          NULL|              NULL|  NULL| NULL| NULL|   NULL|     NULL|          SICU| 5.5558|\n",
      "|      2784|   NULL|          NULL|              NULL|  NULL| NULL| NULL|   NULL|     NULL|          MICU| 2.1675|\n",
      "|       357|   NULL|          NULL|              NULL|  NULL| NULL| NULL|   NULL|     NULL|           CCU| 0.9252|\n",
      "|       945|   NULL|          NULL|              NULL|  NULL| NULL| NULL|   NULL|     NULL|          MICU| 2.2924|\n",
      "|      2215|   NULL|          NULL|              NULL|  NULL| NULL| NULL|   NULL|     NULL|         TSICU| 1.9007|\n",
      "|      1943|   NULL|          NULL|              NULL|  NULL| NULL| NULL|   NULL|     NULL|          NICU| 0.5823|\n",
      "|      1197|   NULL|          NULL|              NULL|  NULL| NULL| NULL|   NULL|     NULL|           CCU| 3.2515|\n",
      "|      1520|   NULL|          NULL|              NULL|  NULL| NULL| NULL|   NULL|     NULL|          NICU|52.6722|\n",
      "|      2918|   NULL|          NULL|              NULL|  NULL| NULL| NULL|   NULL|     NULL|          NICU|35.5999|\n",
      "|      1080|   NULL|          NULL|              NULL|  NULL| NULL| NULL|   NULL|     NULL|          NICU| 0.2437|\n",
      "|       147|   NULL|          NULL|              NULL|  NULL| NULL| NULL|   NULL|     NULL|         TSICU| 6.9385|\n",
      "|      1484|   NULL|          NULL|              NULL|  NULL| NULL| NULL|   NULL|     NULL|          NICU| 0.0911|\n",
      "|      1569|   NULL|          NULL|              NULL|  NULL| NULL| NULL|   NULL|     NULL|          MICU| 5.2512|\n",
      "|      2583|   NULL|          NULL|              NULL|  NULL| NULL| NULL|   NULL|     NULL|          NICU| 1.4206|\n",
      "+----------+-------+--------------+------------------+------+-----+-----+-------+---------+--------------+-------+\n",
      "only showing top 20 rows\n",
      "\n"
     ]
    },
    {
     "data": {
      "text/plain": [
       "Row(subject_id=1569, hadm_id=None, admission_type=None, admission_location=None, itemid=None, value=None, error=None, seq_num=None, icd9_code=None, first_careunit='CCU', LOS=6.1209)"
      ]
     },
     "execution_count": 70,
     "metadata": {},
     "output_type": "execute_result"
    }
   ],
   "source": [
    "df = spark.sql(\"\"\"\n",
    "    SELECT \n",
    "        COALESCE(icu.subject_id, adm.subject_id, chart.subject_id) AS subject_id,\n",
    "        adm.hadm_id,\n",
    "        adm.admission_type,\n",
    "        adm.admission_location,\n",
    "        chart.itemid,\n",
    "        chart.value,\n",
    "        chart.error,\n",
    "        diag.seq_num,\n",
    "        diag.icd9_code,\n",
    "        icu.first_careunit,\n",
    "               \n",
    "\n",
    "        icu.LOS\n",
    "               \n",
    "    FROM icustays icu\n",
    "            full outer join admissions adm on adm.hadm_id=icu.hadm_id\n",
    "            full outer join chartevents chart on chart.hadm_id=adm.hadm_id\n",
    "            full outer join diagnoses diag on diag.hadm_id=adm.hadm_id\n",
    "\"\"\")\n",
    "df.show()"
   ]
  },
  {
   "cell_type": "markdown",
   "id": "940abee4",
   "metadata": {},
   "source": [
    "merdas para justificar no relatorio:\n",
    "\n",
    "Juntei as tabelas por admissao ao hospital e nao por pessoa, pq pode haver mais doq uma admissao por pessoa. Fiz outter join pelo msm motivo, mas dps tenho de testar isso com os dados todos e nao so com as tabelas parciais\n",
    "\n",
    "na chartevents Each row associated with one ITEMID (e.g. 212) corresponds to an instantiation of the same measurement (e.g. heart rate) entao nao vale a pena por a coluna VALUEUOM is the unit of measurement, pq cada teste ja e feito numa unidade de medida, n vale a pena tar a dar mais do msm a ml. Vou por o erro pq se houve erro ent conta menos para a ml mas ig que e melhor q nada??? problema para a ml e nao para nos.\n",
    "\n",
    "aqui cada chartevent, ou seja, analie/teste/raiox etc corresponde as uma linha, mais tarde temos de resolver este problema pq o objetivo e prever o tempo de internacao POR ICUSTAY_ID, ent deviamos ter apenas uma linha por admissao//icustay\n",
    "\n",
    "na tabela dos diagnosticos SEQ_NUM provides the order in which the ICD diagnoses relate to the patient, o quao importante a doenca e no caso da pessoa, e ICD9_CODE contains the actual code corresponding to the diagnosis, ou seja a doenca id, por isso para dar join dou por paciente ou por admissao? aceito opinioes, por agr pus admissoes pq e oq pus no resto"
   ]
  },
  {
   "cell_type": "markdown",
   "id": "641e6673",
   "metadata": {},
   "source": [
    "As seen in the above table, the attributes/columns chose were: \n",
    "* Person's ID (subject_id)\n",
    "* Admission ID (hadm_id)\n",
    "* Admission Type (admission_type) emergency etc etc\n",
    "* Admission Location (admission_location)"
   ]
  },
  {
   "cell_type": "markdown",
   "id": "3bd0a499",
   "metadata": {},
   "source": [
    "### b. Handle categorical columns (example)"
   ]
  },
  {
   "cell_type": "code",
   "execution_count": 23,
   "id": "110d81a7",
   "metadata": {},
   "outputs": [
    {
     "ename": "NameError",
     "evalue": "name 'StringType' is not defined",
     "output_type": "error",
     "traceback": [
      "\u001b[0;31m---------------------------------------------------------------------------\u001b[0m",
      "\u001b[0;31mNameError\u001b[0m                                 Traceback (most recent call last)",
      "Cell \u001b[0;32mIn[23], line 1\u001b[0m\n\u001b[0;32m----> 1\u001b[0m categorical_cols \u001b[38;5;241m=\u001b[39m [col \u001b[38;5;28;01mfor\u001b[39;00m col \u001b[38;5;129;01min\u001b[39;00m df\u001b[38;5;241m.\u001b[39mcolumns \u001b[38;5;28;01mif\u001b[39;00m df\u001b[38;5;241m.\u001b[39mschema[col]\u001b[38;5;241m.\u001b[39mdataType \u001b[38;5;241m==\u001b[39m StringType() \u001b[38;5;129;01mand\u001b[39;00m col \u001b[38;5;241m!=\u001b[39m target_col]\n\u001b[1;32m      2\u001b[0m indexers \u001b[38;5;241m=\u001b[39m [StringIndexer(inputCol\u001b[38;5;241m=\u001b[39mcol, outputCol\u001b[38;5;241m=\u001b[39mcol\u001b[38;5;241m+\u001b[39m\u001b[38;5;124m\"\u001b[39m\u001b[38;5;124m_index\u001b[39m\u001b[38;5;124m\"\u001b[39m) \u001b[38;5;28;01mfor\u001b[39;00m col \u001b[38;5;129;01min\u001b[39;00m categorical_cols]\n",
      "Cell \u001b[0;32mIn[23], line 1\u001b[0m, in \u001b[0;36m<listcomp>\u001b[0;34m(.0)\u001b[0m\n\u001b[0;32m----> 1\u001b[0m categorical_cols \u001b[38;5;241m=\u001b[39m [col \u001b[38;5;28;01mfor\u001b[39;00m col \u001b[38;5;129;01min\u001b[39;00m df\u001b[38;5;241m.\u001b[39mcolumns \u001b[38;5;28;01mif\u001b[39;00m df\u001b[38;5;241m.\u001b[39mschema[col]\u001b[38;5;241m.\u001b[39mdataType \u001b[38;5;241m==\u001b[39m \u001b[43mStringType\u001b[49m() \u001b[38;5;129;01mand\u001b[39;00m col \u001b[38;5;241m!=\u001b[39m target_col]\n\u001b[1;32m      2\u001b[0m indexers \u001b[38;5;241m=\u001b[39m [StringIndexer(inputCol\u001b[38;5;241m=\u001b[39mcol, outputCol\u001b[38;5;241m=\u001b[39mcol\u001b[38;5;241m+\u001b[39m\u001b[38;5;124m\"\u001b[39m\u001b[38;5;124m_index\u001b[39m\u001b[38;5;124m\"\u001b[39m) \u001b[38;5;28;01mfor\u001b[39;00m col \u001b[38;5;129;01min\u001b[39;00m categorical_cols]\n",
      "\u001b[0;31mNameError\u001b[0m: name 'StringType' is not defined"
     ]
    }
   ],
   "source": [
    "\n",
    "categorical_cols = [col for col in df.columns if df.schema[col].dataType == StringType() and col != target_col]\n",
    "indexers = [StringIndexer(inputCol=col, outputCol=col+\"_index\") for col in categorical_cols]"
   ]
  },
  {
   "cell_type": "markdown",
   "id": "fbe35563",
   "metadata": {},
   "source": [
    "### c. Assemble features (numeric + indexed categorical)"
   ]
  },
  {
   "cell_type": "code",
   "execution_count": null,
   "id": "526c520b",
   "metadata": {},
   "outputs": [],
   "source": [
    "numeric_cols = [col for col in df.columns if col != target_col and col not in categorical_cols]\n",
    "assembler = VectorAssembler(\n",
    "    inputCols=numeric_cols + [col+\"_index\" for col in categorical_cols],\n",
    "    outputCol=\"features_raw\"\n",
    ")"
   ]
  },
  {
   "cell_type": "markdown",
   "id": "caeea381",
   "metadata": {},
   "source": [
    "### d. Scale features (optional but recommended)"
   ]
  },
  {
   "cell_type": "code",
   "execution_count": null,
   "id": "a545b1dc",
   "metadata": {},
   "outputs": [],
   "source": [
    "scaler = StandardScaler(inputCol=\"features_raw\", outputCol=\"features\")"
   ]
  },
  {
   "cell_type": "markdown",
   "id": "cad30fee",
   "metadata": {},
   "source": [
    "## 3. Target variable preparation (if categorical)"
   ]
  },
  {
   "cell_type": "code",
   "execution_count": null,
   "id": "212b29bb",
   "metadata": {},
   "outputs": [],
   "source": [
    "label_indexer = StringIndexer(inputCol=target_col, outputCol=\"label\")"
   ]
  },
  {
   "cell_type": "markdown",
   "id": "2a91a495",
   "metadata": {},
   "source": [
    "## 4. Create Pipeline"
   ]
  },
  {
   "cell_type": "code",
   "execution_count": null,
   "id": "f409dd75",
   "metadata": {},
   "outputs": [],
   "source": [
    "pipeline_stages = indexers + [assembler, scaler, label_indexer]\n",
    "preprocessing_pipeline = Pipeline(stages=pipeline_stages)"
   ]
  },
  {
   "cell_type": "code",
   "execution_count": null,
   "id": "05217c4c",
   "metadata": {},
   "outputs": [],
   "source": [
    "processed_data = preprocessing_pipeline.fit(df).transform(df)"
   ]
  },
  {
   "cell_type": "markdown",
   "id": "9d4ad849",
   "metadata": {},
   "source": [
    "## 5. Train-Test Split"
   ]
  },
  {
   "cell_type": "code",
   "execution_count": null,
   "id": "758a220e",
   "metadata": {},
   "outputs": [],
   "source": [
    "train_data, test_data = processed_data.randomSplit([0.7, 0.3], seed=42)\n",
    "print(f\"Training count: {train_data.count()}\")\n",
    "print(f\"Test count: {test_data.count()}\")"
   ]
  },
  {
   "cell_type": "markdown",
   "id": "553b9b79",
   "metadata": {},
   "source": [
    "## 6. Model Training"
   ]
  },
  {
   "cell_type": "code",
   "execution_count": null,
   "id": "2b6042b8",
   "metadata": {},
   "outputs": [],
   "source": [
    "rf = RandomForestClassifier(\n",
    "    featuresCol=\"features\",\n",
    "    labelCol=\"label\",\n",
    "    numTrees=100,\n",
    "    maxDepth=10,\n",
    "    seed=42\n",
    ")\n",
    "\n",
    "# Train model\n",
    "model = rf.fit(train_data)"
   ]
  },
  {
   "cell_type": "markdown",
   "id": "4dc2abab",
   "metadata": {},
   "source": [
    "## 7. Predictions"
   ]
  },
  {
   "cell_type": "code",
   "execution_count": null,
   "id": "fcb9b476",
   "metadata": {},
   "outputs": [],
   "source": [
    "predictions = model.transform(test_data)"
   ]
  },
  {
   "cell_type": "markdown",
   "id": "ac762e4e",
   "metadata": {},
   "source": [
    "## 8. Evaluation"
   ]
  },
  {
   "cell_type": "code",
   "execution_count": null,
   "id": "53e14538",
   "metadata": {},
   "outputs": [],
   "source": [
    "evaluator = BinaryClassificationEvaluator(labelCol=\"label\")\n",
    "auc = evaluator.evaluate(predictions)\n",
    "print(f\"Test AUC = {auc}\")"
   ]
  },
  {
   "cell_type": "code",
   "execution_count": null,
   "id": "7e91afa5",
   "metadata": {},
   "outputs": [],
   "source": [
    "# For multiclass classification\n",
    "# evaluator = MulticlassClassificationEvaluator(labelCol=\"label\", metricName=\"accuracy\")\n",
    "# accuracy = evaluator.evaluate(predictions)\n",
    "# print(f\"Test Accuracy = {accuracy}\")"
   ]
  },
  {
   "cell_type": "markdown",
   "id": "a4ed6fd7",
   "metadata": {},
   "source": [
    "## 9. Close Session"
   ]
  },
  {
   "cell_type": "code",
   "execution_count": null,
   "id": "592609c8",
   "metadata": {},
   "outputs": [],
   "source": [
    "spark.stop()"
   ]
  }
 ],
 "metadata": {
  "kernelspec": {
   "display_name": "Python 3",
   "language": "python",
   "name": "python3"
  },
  "language_info": {
   "codemirror_mode": {
    "name": "ipython",
    "version": 3
   },
   "file_extension": ".py",
   "mimetype": "text/x-python",
   "name": "python",
   "nbconvert_exporter": "python",
   "pygments_lexer": "ipython3",
   "version": "3.10.12"
  }
 },
 "nbformat": 4,
 "nbformat_minor": 5
}
